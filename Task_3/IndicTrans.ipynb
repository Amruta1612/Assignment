{
  "cells": [
    {
      "cell_type": "code",
      "execution_count": null,
      "metadata": {
        "colab": {
          "base_uri": "https://localhost:8080/"
        },
        "id": "CjfzxXZLHed_",
        "outputId": "19841417-46bc-4946-b617-78184a33508d"
      },
      "outputs": [
        {
          "output_type": "stream",
          "name": "stdout",
          "text": [
            "fatal: Too many arguments.\n",
            "\n",
            "usage: git clone [<options>] [--] <repo> [<dir>]\n",
            "\n",
            "    -v, --verbose         be more verbose\n",
            "    -q, --quiet           be more quiet\n",
            "    --progress            force progress reporting\n",
            "    -n, --no-checkout     don't create a checkout\n",
            "    --bare                create a bare repository\n",
            "    --mirror              create a mirror repository (implies bare)\n",
            "    -l, --local           to clone from a local repository\n",
            "    --no-hardlinks        don't use local hardlinks, always copy\n",
            "    -s, --shared          setup as shared repository\n",
            "    --recursive ...       alias of --recurse-submodules\n",
            "    --recurse-submodules[=<pathspec>]\n",
            "                          initialize submodules in the clone\n",
            "    -j, --jobs <n>        number of submodules cloned in parallel\n",
            "    --template <template-directory>\n",
            "                          directory from which templates will be used\n",
            "    --reference <repo>    reference repository\n",
            "    --reference-if-able <repo>\n",
            "                          reference repository\n",
            "    --dissociate          use --reference only while cloning\n",
            "    -o, --origin <name>   use <name> instead of 'origin' to track upstream\n",
            "    -b, --branch <branch>\n",
            "                          checkout <branch> instead of the remote's HEAD\n",
            "    -u, --upload-pack <path>\n",
            "                          path to git-upload-pack on the remote\n",
            "    --depth <depth>       create a shallow clone of that depth\n",
            "    --shallow-since <time>\n",
            "                          create a shallow clone since a specific time\n",
            "    --shallow-exclude <revision>\n",
            "                          deepen history of shallow clone, excluding rev\n",
            "    --single-branch       clone only one branch, HEAD or --branch\n",
            "    --no-tags             don't clone any tags, and make later fetches not to follow them\n",
            "    --shallow-submodules  any cloned submodules will be shallow\n",
            "    --separate-git-dir <gitdir>\n",
            "                          separate git dir from working tree\n",
            "    -c, --config <key=value>\n",
            "                          set config inside the new repository\n",
            "    --server-option <server-specific>\n",
            "                          option to transmit\n",
            "    -4, --ipv4            use IPv4 addresses only\n",
            "    -6, --ipv6            use IPv6 addresses only\n",
            "    --filter <args>       object filtering\n",
            "    --remote-submodules   any cloned submodules will use their remote-tracking branch\n",
            "    --sparse              initialize sparse-checkout file to include only files at root\n",
            "\n",
            "/content/indicTrans\n",
            "fatal: destination path 'indic_nlp_library' already exists and is not an empty directory.\n",
            "fatal: destination path 'indic_nlp_resources' already exists and is not an empty directory.\n",
            "fatal: destination path 'subword-nmt' already exists and is not an empty directory.\n",
            "/content\n"
          ]
        }
      ],
      "source": [
        "# clone the repo for running evaluation\n",
        "!git clone git clone https://github.com/AI4Bharat/indicTrans.git\n",
        "%cd indicTrans\n",
        "# clone requirements repositories\n",
        "!git clone https://github.com/anoopkunchukuttan/indic_nlp_library.git\n",
        "!git clone https://github.com/anoopkunchukuttan/indic_nlp_resources.git\n",
        "!git clone https://github.com/rsennrich/subword-nmt.git\n",
        "%cd .."
      ]
    },
    {
      "cell_type": "code",
      "execution_count": null,
      "metadata": {
        "id": "TktUu9NW_PLq"
      },
      "outputs": [],
      "source": [
        "# add fairseq folder to python path\n",
        "import os\n",
        "os.environ['PYTHONPATH'] += \":/content/fairseq/\"\n",
        "# sanity check to see if fairseq is installed\n",
        "from fairseq import checkpoint_utils, distributed_utils, options, tasks, utils"
      ]
    },
    {
      "cell_type": "code",
      "execution_count": null,
      "metadata": {
        "colab": {
          "base_uri": "https://localhost:8080/"
        },
        "id": "E_4JxNdRlPQB",
        "outputId": "4055e790-340a-41a3-ea75-479f71f1dd22"
      },
      "outputs": [
        {
          "output_type": "stream",
          "name": "stdout",
          "text": [
            "--2023-04-20 04:30:55--  https://ai4b-public-nlu-nlg.objectstore.e2enetworks.net/indic2en.zip\n",
            "Resolving ai4b-public-nlu-nlg.objectstore.e2enetworks.net (ai4b-public-nlu-nlg.objectstore.e2enetworks.net)... 164.52.210.96, 164.52.206.154, 164.52.210.97, ...\n",
            "Connecting to ai4b-public-nlu-nlg.objectstore.e2enetworks.net (ai4b-public-nlu-nlg.objectstore.e2enetworks.net)|164.52.210.96|:443... connected.\n",
            "HTTP request sent, awaiting response... 200 OK\n",
            "Length: 4759117228 (4.4G) [application/zip]\n",
            "Saving to: ‘indic2en.zip’\n",
            "\n",
            "indic2en.zip        100%[===================>]   4.43G  12.0MB/s    in 6m 47s  \n",
            "\n",
            "2023-04-20 04:37:44 (11.2 MB/s) - ‘indic2en.zip’ saved [4759117228/4759117228]\n",
            "\n",
            "Archive:  indic2en.zip\n",
            "   creating: indic-en/\n",
            "   creating: indic-en/vocab/\n",
            "  inflating: indic-en/vocab/bpe_codes.32k.SRC  \n",
            "  inflating: indic-en/vocab/vocab.SRC  \n",
            "  inflating: indic-en/vocab/vocab.TGT  \n",
            "  inflating: indic-en/vocab/bpe_codes.32k.TGT  \n",
            "   creating: indic-en/final_bin/\n",
            "  inflating: indic-en/final_bin/preprocess.log  \n",
            "  inflating: indic-en/final_bin/dict.TGT.txt  \n",
            "  inflating: indic-en/final_bin/test.SRC-TGT.SRC.idx  \n",
            "  inflating: indic-en/final_bin/test.SRC-TGT.TGT.idx  \n",
            "  inflating: indic-en/final_bin/train.SRC-TGT.SRC.idx  \n",
            "  inflating: indic-en/final_bin/dict.SRC.txt  \n",
            "  inflating: indic-en/final_bin/valid.SRC-TGT.TGT.idx  \n",
            "  inflating: indic-en/final_bin/test.SRC-TGT.TGT.bin  \n",
            "  inflating: indic-en/final_bin/valid.SRC-TGT.TGT.bin  \n",
            "  inflating: indic-en/final_bin/train.SRC-TGT.TGT.idx  \n",
            "  inflating: indic-en/final_bin/train.SRC-TGT.TGT.bin  \n",
            "  inflating: indic-en/final_bin/valid.SRC-TGT.SRC.idx  \n",
            "  inflating: indic-en/final_bin/train.SRC-TGT.SRC.bin  \n",
            "  inflating: indic-en/final_bin/valid.SRC-TGT.SRC.bin  \n",
            "  inflating: indic-en/final_bin/test.SRC-TGT.SRC.bin  \n",
            "   creating: indic-en/model/\n",
            "  inflating: indic-en/model/checkpoint_best.pt  \n",
            "/content/indicTrans\n"
          ]
        }
      ],
      "source": [
        "# download the indictrans model\n",
        "\n",
        "\n",
        "# downloading the indic-en model\n",
        "!wget https://ai4b-public-nlu-nlg.objectstore.e2enetworks.net/indic2en.zip\n",
        "!unzip indic2en.zip\n",
        "\n",
        "# downloading the en-indic model\n",
        "# !wget https://ai4b-public-nlu-nlg.objectstore.e2enetworks.net/en2indic.zip\n",
        "# !unzip en2indic.zip\n",
        "\n",
        "# # downloading the indic-indic model\n",
        "# !wget https://ai4b-public-nlu-nlg.objectstore.e2enetworks.net/m2m.zip\n",
        "# !unzip m2m.zip\n",
        "\n",
        "%cd indicTrans"
      ]
    },
    {
      "cell_type": "code",
      "execution_count": null,
      "metadata": {
        "colab": {
          "base_uri": "https://localhost:8080/"
        },
        "id": "yTnWbHqY01-B",
        "outputId": "ebd2a2a8-ef1e-4e72-d374-cfcc4437aa85"
      },
      "outputs": [
        {
          "output_type": "stream",
          "name": "stdout",
          "text": [
            "Initializing vocab and bpe\n",
            "Initializing model for translation\n"
          ]
        }
      ],
      "source": [
        "from indicTrans.inference.engine import Model\n",
        "\n",
        "indic2en_model = Model(expdir='../indic-en')"
      ]
    },
    {
      "cell_type": "code",
      "execution_count": null,
      "metadata": {
        "colab": {
          "base_uri": "https://localhost:8080/"
        },
        "id": "QTp2NOgQ__sB",
        "outputId": "fba7740a-1703-44fa-f0c2-b5b3c4f10f94"
      },
      "outputs": [
        {
          "output_type": "stream",
          "name": "stderr",
          "text": [
            "100%|██████████| 1/1 [00:00<00:00, 308.09it/s]\n"
          ]
        },
        {
          "output_type": "execute_result",
          "data": {
            "text/plain": [
              "['The objective of the POSHAN Tracker application is to provide 360 degree view of the service delivery activities of the Anganwadi Centres (AWCs), Anganwadi Workers (AWWs) and full beneficiary management activities for pregnant women, lactating mothers and children']"
            ]
          },
          "metadata": {},
          "execution_count": 16
        }
      ],
      "source": [
        "ta_sents = [\"\"\"पोषण ट्रैकर एप्लिकेशन का उद्देश्य आंगनवाड़ी केंद्र (एडब्ल्यूसी), आंगनवाड़ी कर्मचारी (एडब्ल्यूडब्ल्यू) की सेवा प्रदान करने वाली गतिविधियों और गर्भवती महिलाओं, स्तनपान कराने वाली माताओं और बच्चों के लिए पूर्ण लाभार्थी प्रबंधन की गतिविधियों का 360 डिग्री दृश्य प्रदान करना है। प्रस्तावित प्रणाली को सभी एडब्ल्यूसी, एडब्ल्यू डब्ल्यू और लाभार्थियों को परिभाषित संकेतक पर वास्तविक समय की निगरानी और समझना सक्षम करना चाहिए।\n",
        "पोषण ट्रैकर ऐप को कैसे डाउनलोड किया जा सकता है?\"\"\"]\n",
        "\n",
        "\n",
        "indic2en_model.batch_translate(ta_sents, 'hi', 'en')\n",
        "\n"
      ]
    },
    {
      "cell_type": "code",
      "execution_count": null,
      "metadata": {
        "colab": {
          "base_uri": "https://localhost:8080/",
          "height": 687
        },
        "id": "VFXrCNZGEN7Z",
        "outputId": "f027bdc1-ad0c-4561-e295-661dd62690e4"
      },
      "outputs": [
        {
          "output_type": "stream",
          "name": "stderr",
          "text": [
            "100%|██████████| 58/58 [00:00<00:00, 7008.43it/s]\n"
          ]
        },
        {
          "output_type": "stream",
          "name": "stdout",
          "text": [
            "WARNING: Sentence __src__hi__ __tgt__en__ ऐसी विभिन्न रिपोर्@@ .... से कैसे संपर्क करें ? truncated to 200 tokens as it exceeds maximum length limit\n"
          ]
        },
        {
          "output_type": "execute_result",
          "data": {
            "text/plain": [
              "\"What is POSHAN Abhiyaan? POSHAN Abhiyaan is India's flagship programme to improve nutritional outcomes for children, adolescents, pregnant women and lactating mothers through a targeted approach and convergence. What is the purpose of launching POSHAN Tracker? The objective of the POSHAN Tracker application is to provide 360 degree view of Anganwadi Centre (AWC), service delivery activities of Anganwadi Workers (AWWs) and full beneficiary management activities for pregnant women, lactating mothers and children. The proposed system should enable real time monitoring and understanding of all AWCs, AWWs and beneficiaries on defined indicators. How to download the POSHAN Tracker App? The Poshan Tracker App is available on Google Play Store https: / / play.google.com / store / apps / details is available at the id = com.poshantracker. Is POSHAN TRACK APP also available on Apple iStore? No nutrition tracker is available for Android version only. What is the minimum requirement to install the POSHAN Tracker App in mobile? The POSHAN Tracker app can be installed only on Android phones with version 6.0 and above. Can the app be accessed without internet? No app works without a valid internet connection. Who are the target users of the POSHAN Tracker App? The POSHAN tracker app is for Anganwadi Workers which captures the data of beneficiaries of Anganwadi Centres in the form. It is not at all developed for the general public. How to login to the POSHAN Tracker App? AWW is requested to enter your mobile number in the login screen. An OTP will be sent to your registered mobile number, which you need to set up your MPIN. What is MPIN? This is decided by the Anganwadi Worker at the time of registration on the Poshan Tracker App. How to set MPIN? The MPIN can be requested for OTP by the concerned Anganwadi worker on his mobile number. If the mobile number is already present in the database, the concerned Anganwadi person will receive a 4-digit OTP on the registered mobile number. After entering OTP, AWW can easily determine the adaptive MPIN. When and how to use MPIN? At the time of login to the POSHAN Tracker App, AWW has to enter the MPI prescribed by them. This MPIN will serve as a passcode for running the Poshan Tracker App and entering information in the form of beneficiaries. How to Reset MPIN? MPIN can be easily reset by any AWW / AWC user. You have to click on the forgot MPIN, and enter your registered mobile number. You will get OTP on your registered mobile number and you can easily reset your MPIN. How many languages is the POSHAN Tracker App available? POSHAN Tracker App is available in 22 different languages. There are various languages available: English, Hindi, Gujarati, Punjabi, Marathi, Bengali, Kannada, Tamil, Telugu, Malayalam, Odia, Assamese, Nepali, Dogri, Konkani, Sindhi, Bodo, Maithili, Manipuri, Santhali, Urdu, Kashmiri, how many languages can AWW or AWC enter data while filling the form? AWW can fill the form in English only. How many different forms are there in the Poshan Tracker App? There are 7 different types of forms for beneficiaries. These include: Lactating mother Pregnant women Children 0-6 months Children 6 months to 3 years Children 3 years to 6 years Adolescent girls (11 years to 19 years) What information should be included in the AWC form? AWWs are required to enter the details related to the infrastructure available in a particular Anganwadi Centre. This includes infrastructure, basic amenities, amenities, sanitation, drinking water etc. If they are unable to register through their mobile numbers, how can AWW sign up on the app? If AWWs fail to register themselves, there may be two possibilities: The data provided by the States to MoWCD does not contain their mobile numbers. They are new additions to the system and their mobile numbers have not yet been provided to MoWCD by the State Cell. In both the above cases, the State Nodal Officers are empowered to add / edit / activate / deactivate any of the AWWs. How can one access the nutrition tracker dashboard? The POSHAN tracker dashboard can be accessed by signing on the dashboard. The dashboard can be accessed by clicking on the link https: / / poshantracker.in / admin A unique authentication is provided to the state, district, project and sector level officials to access the National Nominated Nodal Officer dashboard only. How can one add AWW / AWC? The AWW / AWC can be linked only by a nodal level officer. Anyone up in the hierarchy. State, district, project and field level users as national level users. State level user can create district, project and area level user, district level user can create project and area level user, project level user can create area user. How many different types of records can be generated on the nutrition tracker dashboard? General report: Number of app downloads Total number of registered Anganwadi Centres (National / State / District / Block wise) Total number of registered beneficiaries (National / State / District / Block wise) Total number of registered pregnant women (National / District / Block wise) Total number of registered mothers (National / State / Block wise) Total number of registered children (0-6 months) Total number of registered children (National / State / District / Block wise) Total number of registered children (6 months) District / Block wise (District / Block wise) Maternal and child nutrition: How many children are fed THR in the first hour after delivery, especially in the first week of delivery, HCM is given to lactating mothers, how many children exclusively breastfeeding after 6 years and 3 years after delivery The POSHAN Tracker Group can be contacted by sending an email to support-poshantrackr @ gov.in For your support and cooperation, we are also available on Video Conference everyday from 4: 15 pm to 5: 15 pm.\""
            ],
            "application/vnd.google.colaboratory.intrinsic+json": {
              "type": "string"
            }
          },
          "metadata": {},
          "execution_count": 20
        }
      ],
      "source": [
        "\n",
        "ta_paragraph = \"\"\"पोषण अभियान क्या है?\n",
        "पोषण अभियान, एक लक्षित दृष्टिकोण और अभिसरण द्वारा बच्चों, किशोरों, गर्भवती महिलाओं और स्तनपान कराने वाली माताओं के लिए पोषण संबंधी परिणामों में सुधार करने के लिए भारत का प्रमुख कार्यक्रम है।\n",
        "पोषण ट्रैकर लॉन्च करने का उद्देश्य क्या है?\n",
        "पोषण ट्रैकर एप्लिकेशन का उद्देश्य आंगनवाड़ी केंद्र (एडब्ल्यूसी), आंगनवाड़ी कर्मचारी (एडब्ल्यूडब्ल्यू) की सेवा प्रदान करने वाली गतिविधियों और गर्भवती महिलाओं, स्तनपान कराने वाली माताओं और बच्चों के लिए पूर्ण लाभार्थी प्रबंधन की गतिविधियों का 360 डिग्री दृश्य प्रदान करना है। प्रस्तावित प्रणाली को सभी एडब्ल्यूसी, एडब्ल्यू डब्ल्यू और लाभार्थियों को परिभाषित संकेतक पर वास्तविक समय की निगरानी और समझना सक्षम करना चाहिए।\n",
        "पोषण ट्रैकर ऐप को कैसे डाउनलोड किया जा सकता है?\n",
        "पोषण ट्रैकर ऐप गूगल प्ले स्टोर https://play.google.com/store/apps/details?id=com.poshantracker पर उपलब्ध है।\n",
        "क्या ऐप्पल आई स्टोर पर भी पोषण ट्रैक ऐप उपलब्ध है?\n",
        "कोई पोषण ट्रैकर केवल एंड्रॉइड संस्करण के लिए उपलब्ध नहीं है।\n",
        "मोबाइल में पोषण ट्रैकर ऐप इंस्टॉल करने के लिए न्यूनतम आवश्यकता क्या है?\n",
        "पोषण ट्रैकर ऐप केवल एंड्रॉइड फोन में एंड्रॉइड संस्करण 6.0 और इसके बाद के संस्करण में स्थापित किया जा सकता है।\n",
        "क्या ऐप को इंटरनेट के बिना अभिगम किया जा सकता है?\n",
        "कोई भी ऐप वैध इंटरनेट कनेक्शन के बिना काम नहीं करती है।\n",
        "पोषण ट्रैकर ऐप के टारगेट यूज़रबेस कौन हैं?\n",
        "पोषण ट्रैकर ऐप आंगनवाड़ी कार्यकर्ताओं के लिए है जो आंगनवाड़ी केंद्रों के लाभार्थियों के डेटा को प्रपत्रों में दर्ज करता है। यह आम जनता के लिए बिल्कुल भी विकसित नहीं है।\n",
        "पोषण ट्रैकर ऐप में कैसे लॉगिन करें?\n",
        "एडब्ल्यूडब्ल्यू से अनुरोध है कि लॉगिन स्क्रीन में अपने मोबाइल नंबर दर्ज करें। आपके पंजीकृत मोबाइल नंबर पर एक ओटीपी भेजा जाएगा जिसकी आपको आवश्यकता है, अपना एमपीआईएन स्थापित करें।\n",
        "एमपीआईएन क्या है?\n",
        "जो आंगनवाड़ी कार्यकर्ता द्वारा पोषण ट्रैकर ऐप पर पंजीकरण करते समय निर्धारित किया जाता है।\n",
        "एमपीआईएन कैसे निर्धारित करें?\n",
        "एमपीआईएन को संबंधित आंगनवाड़ी कार्यकर्ता द्वारा अपने मोबाइल नंबर पर ओटीपी के लिए अनुरोध किया जा सकता है। यदि मोबाइल नंबर पहले से ही डेटाबेस में मौजूद है, तो संबंधित आंगनवाड़ी व्यक्ति को पंजीकृत मोबाइल नंबर पर 4 अंकों का ओटीपी प्राप्त होगा। ओटीपी दर्ज करने के बाद, एडब्ल्यूडब्ल्यू आसानी से अनुकूलित एमपीआईएन निर्धारित कर सकता है।\n",
        "एमपीआईएन कब और कैसे इस्तेमाल करें?\n",
        "पोषण ट्रैकर ऐप में लॉगिन करते समय, एडब्ल्यूडब्ल्यू को उनके द्वारा निर्धारित एमपीआई में प्रवेश करना होता है। यह एमपीआईएन पोषण ट्रैकर ऐप चलाने और लाभार्थियों के फॉर्म में जानकारी दर्ज करने के लिए एक पासकोड के रूप में कार्य करेगा।\n",
        "एमपीआईएन कैसे दोबारा निर्धारित करें?\n",
        "एमपीआईएन को किसी भी एडब्ल्यूडब्ल्यू / एडब्ल्यूसी उपयोगकर्ता द्वारा आसानी से दोबारा निर्धारित किया जा सकता है। आपको भूल गए एमपीआईएन पर क्लिक करना होगा, और अपना पंजीकृत मोबाइल नंबर दर्ज करना होगा। आपको अपने पंजीकृत मोबाइल नंबर पर ओटीपी प्राप्त होगा और आप अपने एमपीआईएन को आसानी से दोबारा निर्धारित कर सकते हैं।\n",
        "पोषण ट्रैकर ऐप कितनी भाषाओं में उपलब्ध है?\n",
        "पोषण ट्रैकर ऐप 22 अलग-अलग भाषाओं में उपलब्ध है।\n",
        "उपलब्ध विभिन्न भाषाएँ हैं:\n",
        "अंग्रेजी\n",
        "हिंदी\n",
        "गुजराती\n",
        "पंजाबी\n",
        "मराठी\n",
        "बंगला\n",
        "कन्नड़\n",
        "तमिल\n",
        "तेलुगु\n",
        "मलायलम\n",
        "ओडिया\n",
        "असमिया\n",
        "Nepali\n",
        "Dogri\n",
        "Konkani\n",
        "Sindhi\n",
        "Bodo\n",
        "Maithili\n",
        "Manipuri\n",
        "Santhali\n",
        "Urdu\n",
        "Kashmiri\n",
        "फॉर्म भरते समय एडब्ल्यूडब्ल्यू या एडब्ल्यूसी कितनी भाषाओं में डेटा दर्ज कर सकती है?\n",
        "एडब्ल्यूडब्ल्यू अंग्रेजी भाषा में ही फॉर्म भर सकता है।\n",
        "पोषण ट्रैकर ऐप में कितने विभिन्न रूप हैं?\n",
        "लाभार्थियों के लिए 7 विभिन्न प्रकार के फॉर्म हैं। इसमें शामिल हैं:\n",
        "स्तनपान कराने वाली मां\n",
        "गर्भवती महिलाएं\n",
        "बच्चा 0-6 महीने\n",
        "बच्चा 6 महीने से 3 साल तक\n",
        "बाल 3 साल से 6 साल\n",
        "किशोर लड़कियां (11 साल -19 साल) \n",
        "एडब्ल्यूसी फॉर्म में कौन सी जानकारी जोड़ी जानी चाहिए?\n",
        "एडब्ल्यूडब्ल्यू एक विशेष आंगनवाड़ी केंद्र में मौजूद बुनियादी ढांचे से संबंधित विवरण दर्ज करने के लिए आवश्यक हैं। इसमें संरचना, बुनियादी सुविधाएं, सुख-सुविधाएँ, स्वच्छता, पेयजल आदि शामिल हैं।\n",
        "अगर वे अपने मोबाइल नंबरों के माध्यम से पंजीकरण करने में असमर्थ हैं, तो एडब्ल्यूडब्ल्यू ऐप पर साइन अप कैसे कर सकता है?\n",
        "यदि एडब्ल्यूडब्ल्यू खुद को पंजीकृत करने में असफल है तो 2 संभावनाएं हो सकती हैं:\n",
        "राज्यों द्वारा एमओडब्ल्यूसीडी को उपलब्ध कराए गए डेटा में उनका मोबाइल नंबर मौजूद नहीं है।\n",
        "वे प्रणाली में नए जोड़े गए हैं और उनका मोबाइल नंबर अभी तक राज्य सेल द्वारा एमओडब्ल्यूसीडी को प्रदान नहीं किया गया है।\n",
        "उपरोक्त दोनों मामलों में राज्य नोडल अधिकारियों को एडब्ल्यूडब्ल्यू में से किसी को जोड़ने / संपादित / सक्रिय / निष्क्रिय करने का अधिकार है।\n",
        "पोषण ट्रैकर डैशबोर्ड तक कोई कैसे पहुंच सकता है?\n",
        "पोषण ट्रैकर डैशबोर्ड को डैशबोर्ड पर साइन करके पहुँचा जा सकता है। डैशबोर्ड को लिंक पर क्लिक करके एक्सेस किया जा सकता है https://poshantracker.in/admin केवल नेशनल में नामित नोडल स्तर के अधिकारी डैशबोर्ड तक पहुँचने के लिए राज्य, जिला, परियोजना और सेक्टर स्तर को एक अद्वितीय प्रमाणिकता प्रदान की जाती है।\n",
        "कोई एडब्ल्यूडब्ल्यू / एडब्ल्यूसी कैसे जोड़ सकता है?\n",
        "एडब्ल्यूडब्ल्यू / एडब्ल्यूसी को केवल नोडल स्तर के अधिकारी द्वारा जोड़ा जा सकता है। पदानुक्रम में ऊपर की ओर कोई भी। राष्ट्रीय स्तर के उपयोगकर्ता के रूप में राज्य, जिला, परियोजना और क्षेत्र स्तर उपयोगकर्ता बना सकते हैं। राज्य स्तर का उपयोगकर्ता जिला, परियोजना और क्षेत्र स्तर का उपयोगकर्ता बना सकता है, जिला स्तर का उपयोगकर्ता परियोजना और क्षेत्र स्तर का उपयोगकर्ता बना सकता है, परियोजना स्तर का उपयोगकर्ता क्षेत्र का उपयोगकर्ता बना सकता है।\n",
        "पोषण ट्रैकर डैशबोर्ड पर कितने विभिन्न प्रकार के अभिलेख उत्पन्न की जा सकती हैं?\n",
        "ऐसी विभिन्न रिपोर्टें हैं जो\n",
        "से उत्पन्न हो सकती हैं सामान्य रिपोर्ट:\n",
        "ऐप डाउनलोड की संख्या\n",
        "पंजीकृत आंगनवाड़ी केंद्रों की कुल संख्या\n",
        "पंजीकृत लाभार्थियों की कुल संख्या (राष्ट्रीय / राज्य / जिला / ब्लॉक वार)\n",
        "पंजीकृत गर्भवती महिलाओं की कुल संख्या (राष्ट्रीय / राज्य / जिला / ब्लॉकवार)\n",
        "पंजीकृत माताओं की कुल संख्या (राष्ट्रीय / राज्य / जिला / ब्लॉक वार)\n",
        "पंजीकृत बच्चों की कुल संख्या (0-6 महीने) पंजीकृत (राष्ट्रीय / राज्य / जिला / ब्लॉकवार)\n",
        "पंजीकृत बच्चों की कुल संख्या (6 महीने) जिला / ब्लॉक वार)\n",
        "मातृ एवं शिशु पोषण:\n",
        "21 दिनों में कितने लाभार्थियों को THR मिला\n",
        "कितने बच्चे स्तनपान करते हैं प्रसव के बाद पहले घंटे में विशेष रूप से\n",
        "कितनी स्तनपान कराने वाली माताओं को एचसीएम दिया जाता है\n",
        "कितने बच्चे विशेष रूप से प्राथमिकी में स्तनपान करते हैं प्रसव के बाद घंटे\n",
        "3-6 वर्ष की आयु के बच्चों में कैल्शियम का औसत स्तर\n",
        "3-6 वर्ष की आयु के बच्चों में लोहे का औसत स्तर\n",
        "टीकाकरण की कुल संख्या प्रति माह प्रशासित (ब्लॉक, जिला, राज्य, राष्ट्रीय स्तर)\n",
        "प्रति माह प्रशासित विशिष्ट रिपोर्ट (बीसीजी / ओपीवी / हेपेटाइटिस बी / रोटावायरस / पोलियो / न्यूमोकोकल / पेंटालेंटल)\n",
        "एडब्ल्यूसी अवसंरचना:\n",
        "एडब्ल्यूसी की संख्या (ब्लॉक, जिला, राज्य, राष्ट्रीय स्तर)\n",
        "बालविकास की कुल संख्या (ब्लॉक जिला, राज्य, राष्ट्रीय स्तर)\n",
        "स्वच्छ पेयजल के साथ एडब्ल्यूसी (ब्लॉक, जिला, राज्य, राष्ट्रीय स्तर) की कुल संख्या\n",
        "कार्य भार पैमाने के साथ एडब्ल्यूसी (ब्लॉक, जिला, राज्य, राष्ट्रीय स्तर) की कुल संख्या\n",
        "बिजली के साथ एडब्ल्यूसी (ब्लॉक, जिला, राज्य, राष्ट्रीय स्तर) की कुल संख्या\n",
        "सरकार की स्वामित्व वाली एडब्ल्यूसी की कुल संख्या\n",
        "निजी तौर पर होने वाले एडब्ल्यूसी की कुल संख्या स्वामित्व\n",
        "पोशन ट्रैकर समूह से कैसे संपर्क करें?\n",
        "पोषण ट्रैकर समूह से support-poshantrackr@gov.in पर ईमेल भेजकर संपर्क किया जा सकता है। आपके सहयोग और समर्थन के लिए हम प्रतिदिन शाम 4:15 बजे से शाम 5:15 बजे तक वीडियो कॉन्फ्रेंस पर भी उपलब्ध हैं।\"\"\"\n",
        "\n",
        "indic2en_model.translate_paragraph(ta_paragraph, 'hi', 'en')"
      ]
    },
    {
      "cell_type": "code",
      "execution_count": null,
      "metadata": {
        "id": "Hi_D7s_VIjis"
      },
      "outputs": [],
      "source": []
    }
  ],
  "metadata": {
    "accelerator": "GPU",
    "colab": {
      "provenance": []
    },
    "kernelspec": {
      "display_name": "Python 3",
      "name": "python3"
    },
    "language_info": {
      "name": "python"
    }
  },
  "nbformat": 4,
  "nbformat_minor": 0
}